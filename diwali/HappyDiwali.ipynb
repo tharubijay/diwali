{
 "cells": [
  {
   "cell_type": "code",
   "execution_count": 1,
   "id": "5f220dc4",
   "metadata": {},
   "outputs": [
    {
     "ename": "TclError",
     "evalue": "couldn't open \"bj.jpg\": no such file or directory",
     "output_type": "error",
     "traceback": [
      "\u001b[1;31m---------------------------------------------------------------------------\u001b[0m",
      "\u001b[1;31mTclError\u001b[0m                                  Traceback (most recent call last)",
      "Input \u001b[1;32mIn [1]\u001b[0m, in \u001b[0;36m<cell line: 6>\u001b[1;34m()\u001b[0m\n\u001b[0;32m      4\u001b[0m bijay \u001b[38;5;241m=\u001b[39m Screen()\n\u001b[0;32m      5\u001b[0m bijay\u001b[38;5;241m.\u001b[39msetup(\u001b[38;5;241m509\u001b[39m,\u001b[38;5;241m500\u001b[39m)\n\u001b[1;32m----> 6\u001b[0m \u001b[43mbijay\u001b[49m\u001b[38;5;241;43m.\u001b[39;49m\u001b[43mbgpic\u001b[49m\u001b[43m(\u001b[49m\u001b[38;5;124;43m'\u001b[39;49m\u001b[38;5;124;43mbj.jpg\u001b[39;49m\u001b[38;5;124;43m'\u001b[39;49m\u001b[43m)\u001b[49m\n\u001b[0;32m      7\u001b[0m t \u001b[38;5;241m=\u001b[39m Turtle()\n\u001b[0;32m      8\u001b[0m t\u001b[38;5;241m.\u001b[39mspeed(\u001b[38;5;241m1\u001b[39m)\n",
      "File \u001b[1;32m~\\anaconda3\\lib\\turtle.py:1482\u001b[0m, in \u001b[0;36mTurtleScreen.bgpic\u001b[1;34m(self, picname)\u001b[0m\n\u001b[0;32m   1480\u001b[0m     \u001b[38;5;28;01mreturn\u001b[39;00m \u001b[38;5;28mself\u001b[39m\u001b[38;5;241m.\u001b[39m_bgpicname\n\u001b[0;32m   1481\u001b[0m \u001b[38;5;28;01mif\u001b[39;00m picname \u001b[38;5;129;01mnot\u001b[39;00m \u001b[38;5;129;01min\u001b[39;00m \u001b[38;5;28mself\u001b[39m\u001b[38;5;241m.\u001b[39m_bgpics:\n\u001b[1;32m-> 1482\u001b[0m     \u001b[38;5;28mself\u001b[39m\u001b[38;5;241m.\u001b[39m_bgpics[picname] \u001b[38;5;241m=\u001b[39m \u001b[38;5;28;43mself\u001b[39;49m\u001b[38;5;241;43m.\u001b[39;49m\u001b[43m_image\u001b[49m\u001b[43m(\u001b[49m\u001b[43mpicname\u001b[49m\u001b[43m)\u001b[49m\n\u001b[0;32m   1483\u001b[0m \u001b[38;5;28mself\u001b[39m\u001b[38;5;241m.\u001b[39m_setbgpic(\u001b[38;5;28mself\u001b[39m\u001b[38;5;241m.\u001b[39m_bgpic, \u001b[38;5;28mself\u001b[39m\u001b[38;5;241m.\u001b[39m_bgpics[picname])\n\u001b[0;32m   1484\u001b[0m \u001b[38;5;28mself\u001b[39m\u001b[38;5;241m.\u001b[39m_bgpicname \u001b[38;5;241m=\u001b[39m picname\n",
      "File \u001b[1;32m~\\anaconda3\\lib\\turtle.py:478\u001b[0m, in \u001b[0;36mTurtleScreenBase._image\u001b[1;34m(self, filename)\u001b[0m\n\u001b[0;32m    474\u001b[0m \u001b[38;5;28;01mdef\u001b[39;00m \u001b[38;5;21m_image\u001b[39m(\u001b[38;5;28mself\u001b[39m, filename):\n\u001b[0;32m    475\u001b[0m     \u001b[38;5;124;03m\"\"\"return an image object containing the\u001b[39;00m\n\u001b[0;32m    476\u001b[0m \u001b[38;5;124;03m    imagedata from a gif-file named filename.\u001b[39;00m\n\u001b[0;32m    477\u001b[0m \u001b[38;5;124;03m    \"\"\"\u001b[39;00m\n\u001b[1;32m--> 478\u001b[0m     \u001b[38;5;28;01mreturn\u001b[39;00m \u001b[43mTK\u001b[49m\u001b[38;5;241;43m.\u001b[39;49m\u001b[43mPhotoImage\u001b[49m\u001b[43m(\u001b[49m\u001b[43mfile\u001b[49m\u001b[38;5;241;43m=\u001b[39;49m\u001b[43mfilename\u001b[49m\u001b[43m,\u001b[49m\u001b[43m \u001b[49m\u001b[43mmaster\u001b[49m\u001b[38;5;241;43m=\u001b[39;49m\u001b[38;5;28;43mself\u001b[39;49m\u001b[38;5;241;43m.\u001b[39;49m\u001b[43mcv\u001b[49m\u001b[43m)\u001b[49m\n",
      "File \u001b[1;32m~\\anaconda3\\lib\\tkinter\\__init__.py:4064\u001b[0m, in \u001b[0;36mPhotoImage.__init__\u001b[1;34m(self, name, cnf, master, **kw)\u001b[0m\n\u001b[0;32m   4059\u001b[0m \u001b[38;5;28;01mdef\u001b[39;00m \u001b[38;5;21m__init__\u001b[39m(\u001b[38;5;28mself\u001b[39m, name\u001b[38;5;241m=\u001b[39m\u001b[38;5;28;01mNone\u001b[39;00m, cnf\u001b[38;5;241m=\u001b[39m{}, master\u001b[38;5;241m=\u001b[39m\u001b[38;5;28;01mNone\u001b[39;00m, \u001b[38;5;241m*\u001b[39m\u001b[38;5;241m*\u001b[39mkw):\n\u001b[0;32m   4060\u001b[0m     \u001b[38;5;124;03m\"\"\"Create an image with NAME.\u001b[39;00m\n\u001b[0;32m   4061\u001b[0m \n\u001b[0;32m   4062\u001b[0m \u001b[38;5;124;03m    Valid resource names: data, format, file, gamma, height, palette,\u001b[39;00m\n\u001b[0;32m   4063\u001b[0m \u001b[38;5;124;03m    width.\"\"\"\u001b[39;00m\n\u001b[1;32m-> 4064\u001b[0m     Image\u001b[38;5;241m.\u001b[39m\u001b[38;5;21m__init__\u001b[39m(\u001b[38;5;28mself\u001b[39m, \u001b[38;5;124m'\u001b[39m\u001b[38;5;124mphoto\u001b[39m\u001b[38;5;124m'\u001b[39m, name, cnf, master, \u001b[38;5;241m*\u001b[39m\u001b[38;5;241m*\u001b[39mkw)\n",
      "File \u001b[1;32m~\\anaconda3\\lib\\tkinter\\__init__.py:4009\u001b[0m, in \u001b[0;36mImage.__init__\u001b[1;34m(self, imgtype, name, cnf, master, **kw)\u001b[0m\n\u001b[0;32m   4007\u001b[0m         v \u001b[38;5;241m=\u001b[39m \u001b[38;5;28mself\u001b[39m\u001b[38;5;241m.\u001b[39m_register(v)\n\u001b[0;32m   4008\u001b[0m     options \u001b[38;5;241m=\u001b[39m options \u001b[38;5;241m+\u001b[39m (\u001b[38;5;124m'\u001b[39m\u001b[38;5;124m-\u001b[39m\u001b[38;5;124m'\u001b[39m\u001b[38;5;241m+\u001b[39mk, v)\n\u001b[1;32m-> 4009\u001b[0m \u001b[38;5;28;43mself\u001b[39;49m\u001b[38;5;241;43m.\u001b[39;49m\u001b[43mtk\u001b[49m\u001b[38;5;241;43m.\u001b[39;49m\u001b[43mcall\u001b[49m\u001b[43m(\u001b[49m\u001b[43m(\u001b[49m\u001b[38;5;124;43m'\u001b[39;49m\u001b[38;5;124;43mimage\u001b[39;49m\u001b[38;5;124;43m'\u001b[39;49m\u001b[43m,\u001b[49m\u001b[43m \u001b[49m\u001b[38;5;124;43m'\u001b[39;49m\u001b[38;5;124;43mcreate\u001b[39;49m\u001b[38;5;124;43m'\u001b[39;49m\u001b[43m,\u001b[49m\u001b[43m \u001b[49m\u001b[43mimgtype\u001b[49m\u001b[43m,\u001b[49m\u001b[43m \u001b[49m\u001b[43mname\u001b[49m\u001b[43m,\u001b[49m\u001b[43m)\u001b[49m\u001b[43m \u001b[49m\u001b[38;5;241;43m+\u001b[39;49m\u001b[43m \u001b[49m\u001b[43moptions\u001b[49m\u001b[43m)\u001b[49m\n\u001b[0;32m   4010\u001b[0m \u001b[38;5;28mself\u001b[39m\u001b[38;5;241m.\u001b[39mname \u001b[38;5;241m=\u001b[39m name\n",
      "\u001b[1;31mTclError\u001b[0m: couldn't open \"bj.jpg\": no such file or directory"
     ]
    }
   ],
   "source": [
    "from tkinter.ttk import Style\n",
    "import turtle \n",
    "from turtle import *\n",
    "bijay = Screen()\n",
    "bijay.setup(509,500)\n",
    "bijay.bgpic('bj.jpg')\n",
    "t = Turtle()\n",
    "t.speed(1)\n",
    "t.hideturtle()\n",
    "\n",
    "def write (message,pos,color):\n",
    "    x,y=pos\n",
    "    t.color(color)\n",
    "    t.penup()\n",
    "    t.goto(x,y)\n",
    "    Style = ('Stencil Std',40,'italic')\n",
    "    t.write(message,font=Style)\n",
    "\n",
    "write('H',(30,50),'orange')\n",
    "write('A',(30,50),'orange')\n",
    "write('P',(30,50),'orange')\n",
    "write('P',(30,50),'orange')\n",
    "write('Y',(30,50),'orange')\n",
    "\n",
    "write('D',(30,50),'orange')\n",
    "write('I',(30,50),'orange')\n",
    "write('W',(30,50),'orange')\n",
    "write('A',(30,50),'orange')\n",
    "write('L',(30,50),'orange')\n",
    "write('I',(30,50),'orange')\n",
    "\n",
    "bijay.mainloop()\n",
    "\n",
    "\n",
    "\n",
    "\n"
   ]
  },
  {
   "cell_type": "code",
   "execution_count": null,
   "id": "5a74b4ba",
   "metadata": {},
   "outputs": [],
   "source": []
  },
  {
   "cell_type": "code",
   "execution_count": null,
   "id": "6be46733",
   "metadata": {},
   "outputs": [],
   "source": []
  }
 ],
 "metadata": {
  "kernelspec": {
   "display_name": "Python 3 (ipykernel)",
   "language": "python",
   "name": "python3"
  },
  "language_info": {
   "codemirror_mode": {
    "name": "ipython",
    "version": 3
   },
   "file_extension": ".py",
   "mimetype": "text/x-python",
   "name": "python",
   "nbconvert_exporter": "python",
   "pygments_lexer": "ipython3",
   "version": "3.9.12"
  }
 },
 "nbformat": 4,
 "nbformat_minor": 5
}
